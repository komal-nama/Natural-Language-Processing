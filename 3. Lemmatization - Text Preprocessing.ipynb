{
 "cells": [
  {
   "cell_type": "markdown",
   "id": "99a1908c-da8a-4489-bb19-f6fc9887e175",
   "metadata": {},
   "source": [
    "## Wordnet Lemmatizer\n",
    "Lemmatization technique is like stemming. The output we will get after lemmatization is called ‘lemma’, which is a root word rather than root stem, the output of stemming. After lemmatization, we will be getting a valid word that means the same thing.\n",
    "\n",
    "NLTK provides WordNetLemmatizer class which is a thin wrapper around the wordnet corpus. This class uses morphy() function to the WordNet CorpusReader class to find a lemma."
   ]
  },
  {
   "cell_type": "code",
   "execution_count": 11,
   "id": "1dcb1d0f-7e27-4d9c-b2ee-282d64281de6",
   "metadata": {},
   "outputs": [],
   "source": [
    "from nltk.stem import WordNetLemmatizer"
   ]
  },
  {
   "cell_type": "code",
   "execution_count": 13,
   "id": "eab4508d-2d8b-44d5-b60b-a7d9494d3070",
   "metadata": {},
   "outputs": [],
   "source": [
    "lemmatizer=WordNetLemmatizer()"
   ]
  },
  {
   "cell_type": "code",
   "execution_count": 17,
   "id": "c85fc8fb-a298-40eb-be06-3ffcbb3a5a75",
   "metadata": {},
   "outputs": [
    {
     "name": "stderr",
     "output_type": "stream",
     "text": [
      "[nltk_data] Downloading package wordnet to\n",
      "[nltk_data]     C:\\Users\\Harsh\\AppData\\Roaming\\nltk_data...\n",
      "[nltk_data] Downloading package omw-1.4 to\n",
      "[nltk_data]     C:\\Users\\Harsh\\AppData\\Roaming\\nltk_data...\n"
     ]
    },
    {
     "data": {
      "text/plain": [
       "True"
      ]
     },
     "execution_count": 17,
     "metadata": {},
     "output_type": "execute_result"
    }
   ],
   "source": [
    "import nltk\n",
    "nltk.download('wordnet')\n",
    "nltk.download('omw-1.4')  # optional but recommended for better lemmatization support"
   ]
  },
  {
   "cell_type": "code",
   "execution_count": 19,
   "id": "78695bd4-7236-41a6-850a-11db881a27ad",
   "metadata": {},
   "outputs": [
    {
     "data": {
      "text/plain": [
       "'go'"
      ]
     },
     "execution_count": 19,
     "metadata": {},
     "output_type": "execute_result"
    }
   ],
   "source": [
    "#lemmatizer.lemmatize(word, pos='n')\n",
    "#POS - Noun-n, Verb-v, Adjective-a, Adverb-r\n",
    "lemmatizer.lemmatize(\"going\",pos='v')"
   ]
  },
  {
   "cell_type": "code",
   "execution_count": 21,
   "id": "e31ceef8-28cd-4430-a9f6-4be6e6c186bd",
   "metadata": {},
   "outputs": [
    {
     "data": {
      "text/plain": [
       "'going'"
      ]
     },
     "execution_count": 21,
     "metadata": {},
     "output_type": "execute_result"
    }
   ],
   "source": [
    "lemmatizer.lemmatize(\"going\",pos='n')"
   ]
  },
  {
   "cell_type": "code",
   "execution_count": 23,
   "id": "34bd47cc-61ac-465f-baf8-2ea2a74ad064",
   "metadata": {},
   "outputs": [],
   "source": [
    "words=[\"eating\",\"eats\",\"eaten\",\"writing\",\"writes\",\"programming\",\"programs\",\"history\",\"finally\",\"finalized\"]"
   ]
  },
  {
   "cell_type": "code",
   "execution_count": 25,
   "id": "9e231362-d199-46d2-bdba-e3c9325aefad",
   "metadata": {},
   "outputs": [
    {
     "name": "stdout",
     "output_type": "stream",
     "text": [
      "eating ----> eat\n",
      "eats ----> eat\n",
      "eaten ----> eat\n",
      "writing ----> write\n",
      "writes ----> write\n",
      "programming ----> program\n",
      "programs ----> program\n",
      "history ----> history\n",
      "finally ----> finally\n",
      "finalized ----> finalize\n"
     ]
    }
   ],
   "source": [
    "for word in words:\n",
    "    print(word + \" ----> \" + lemmatizer.lemmatize(word, pos='v'))"
   ]
  },
  {
   "cell_type": "code",
   "execution_count": 27,
   "id": "de5f3089-30b6-4289-b05a-82d1e5a4d2dc",
   "metadata": {},
   "outputs": [
    {
     "name": "stdout",
     "output_type": "stream",
     "text": [
      "eating ----> eating\n",
      "eats ----> eats\n",
      "eaten ----> eaten\n",
      "writing ----> writing\n",
      "writes ----> writes\n",
      "programming ----> programming\n",
      "programs ----> program\n",
      "history ----> history\n",
      "finally ----> finally\n",
      "finalized ----> finalized\n"
     ]
    }
   ],
   "source": [
    "for word in words:\n",
    "    print(word + \" ----> \" + lemmatizer.lemmatize(word))"
   ]
  },
  {
   "cell_type": "code",
   "execution_count": 29,
   "id": "35643c41-07ca-4465-b618-08ed3ab5ec5b",
   "metadata": {},
   "outputs": [
    {
     "data": {
      "text/plain": [
       "('fairly', 'sportingly')"
      ]
     },
     "execution_count": 29,
     "metadata": {},
     "output_type": "execute_result"
    }
   ],
   "source": [
    "lemmatizer.lemmatize(\"fairly\", pos='v'), lemmatizer.lemmatize(\"sportingly\", pos='v') "
   ]
  },
  {
   "cell_type": "code",
   "execution_count": 31,
   "id": "d40e8248-10ca-4f64-86a6-3090880ae017",
   "metadata": {},
   "outputs": [],
   "source": [
    "# wordnet lemmatizer will take more time than stemming. "
   ]
  },
  {
   "cell_type": "code",
   "execution_count": 33,
   "id": "a0ec502a-9626-4e5d-9fd9-74354e2a1ad8",
   "metadata": {},
   "outputs": [],
   "source": [
    "# Examples of this technique: Q&A, chatbots, text, summarization"
   ]
  },
  {
   "cell_type": "code",
   "execution_count": null,
   "id": "0f83f156-e777-4987-8090-2772f421e500",
   "metadata": {},
   "outputs": [],
   "source": []
  }
 ],
 "metadata": {
  "kernelspec": {
   "display_name": "Python (nltk_env)",
   "language": "python",
   "name": "nltk_env"
  },
  "language_info": {
   "codemirror_mode": {
    "name": "ipython",
    "version": 3
   },
   "file_extension": ".py",
   "mimetype": "text/x-python",
   "name": "python",
   "nbconvert_exporter": "python",
   "pygments_lexer": "ipython3",
   "version": "3.10.18"
  }
 },
 "nbformat": 4,
 "nbformat_minor": 5
}
