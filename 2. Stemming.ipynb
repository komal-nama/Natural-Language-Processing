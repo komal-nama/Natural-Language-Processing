{
 "cells": [
  {
   "cell_type": "markdown",
   "id": "e466816d-7348-4812-a087-02214b3d60bf",
   "metadata": {},
   "source": [
    "# STEMMING"
   ]
  },
  {
   "cell_type": "markdown",
   "id": "0826fc04-3bd9-4283-8e40-024be347b4ae",
   "metadata": {},
   "source": [
    "Stemming is the process of reducing a word to its word stem that affixes to suffixes and prefixes or to the roots of words known as a lemma. Stemming is important in natural language understanding (NLU) and natural language processing (NLP)."
   ]
  },
  {
   "cell_type": "markdown",
   "id": "4974571d-2a9c-44cd-a1cf-a5b418364348",
   "metadata": {},
   "source": [
    "Examples: [going, gone, goes]--> go(word stem)\n",
    "[eat, eaten, eating]--> eat"
   ]
  },
  {
   "cell_type": "markdown",
   "id": "91c0bf46-a037-497f-9a50-128aac1602e6",
   "metadata": {},
   "source": [
    "#### Finding Word Stem of the following words with the help of stemming"
   ]
  },
  {
   "cell_type": "code",
   "execution_count": 7,
   "id": "49800ccd-fd2d-4f79-a56f-3e31244c39b3",
   "metadata": {},
   "outputs": [],
   "source": [
    "words=[\"eating\",\"eats\",\"eaten\",\"writing\",\"writes\",\"programming\",\"programs\",\"history\",\"finally\",\"finalized\"]"
   ]
  },
  {
   "cell_type": "markdown",
   "id": "2d1428e4-5877-4823-815a-a10d3329fc68",
   "metadata": {},
   "source": [
    "### PorterStemmer (Technique)"
   ]
  },
  {
   "cell_type": "code",
   "execution_count": 10,
   "id": "33260377-cd63-42e5-a10a-8886f12c982b",
   "metadata": {},
   "outputs": [],
   "source": [
    "from nltk.stem import PorterStemmer"
   ]
  },
  {
   "cell_type": "code",
   "execution_count": 12,
   "id": "f08cf328-5ff3-47e8-9672-925a53ba26ab",
   "metadata": {},
   "outputs": [],
   "source": [
    "#create object\n",
    "stemming = PorterStemmer()"
   ]
  },
  {
   "cell_type": "code",
   "execution_count": 14,
   "id": "f0ec1d83-1003-42a1-bac3-c9fde9c93006",
   "metadata": {},
   "outputs": [
    {
     "name": "stdout",
     "output_type": "stream",
     "text": [
      "eating -----> eat\n",
      "eats -----> eat\n",
      "eaten -----> eaten\n",
      "writing -----> write\n",
      "writes -----> write\n",
      "programming -----> program\n",
      "programs -----> program\n",
      "history -----> histori\n",
      "finally -----> final\n",
      "finalized -----> final\n"
     ]
    }
   ],
   "source": [
    "#for each word apply stemming process\n",
    "for word in words:\n",
    "    print(word + \" -----> \" + stemming.stem(word))"
   ]
  },
  {
   "cell_type": "markdown",
   "id": "301615ba-3aee-46d1-bc3c-35e6f031da44",
   "metadata": {},
   "source": [
    "##### Disadvantage of stemming: when stemming is applied for some of the words you may not get the correct meaning, form of that specific word may change"
   ]
  },
  {
   "cell_type": "code",
   "execution_count": 17,
   "id": "526b0a7d-a3c0-4bf9-8a8a-039f9697e317",
   "metadata": {},
   "outputs": [
    {
     "data": {
      "text/plain": [
       "'congratul'"
      ]
     },
     "execution_count": 17,
     "metadata": {},
     "output_type": "execute_result"
    }
   ],
   "source": [
    "stemming.stem('congratulations')"
   ]
  },
  {
   "cell_type": "code",
   "execution_count": 21,
   "id": "4b449f06-6dbd-4bed-ab91-d44e1ee2a1b3",
   "metadata": {},
   "outputs": [
    {
     "data": {
      "text/plain": [
       "'sit'"
      ]
     },
     "execution_count": 21,
     "metadata": {},
     "output_type": "execute_result"
    }
   ],
   "source": [
    "stemming.stem('sitting')"
   ]
  },
  {
   "cell_type": "markdown",
   "id": "782608ac-dbb9-497e-a3f0-a490216712f6",
   "metadata": {},
   "source": [
    "## RegexpStemmer Class"
   ]
  },
  {
   "cell_type": "markdown",
   "id": "669b9ece-baad-4d56-b3cc-ffc87a7154ef",
   "metadata": {},
   "source": [
    "NLTK has RegexpStemmer class with the help of which we can easily implement Regular Expression Stemmer algorithms. It basically takes a single regular expression and removes any prefix or suffix that matches the expression. "
   ]
  },
  {
   "cell_type": "code",
   "execution_count": 25,
   "id": "5592dd0f-052f-4400-b875-2028f629d763",
   "metadata": {},
   "outputs": [],
   "source": [
    "from nltk.stem import RegexpStemmer"
   ]
  },
  {
   "cell_type": "code",
   "execution_count": 27,
   "id": "51335fcd-da7c-4f1e-a664-776e88972eea",
   "metadata": {},
   "outputs": [],
   "source": [
    "reg_stemmer = RegexpStemmer('ing$|s$|e$|able$', min=4)    #all regular expressions"
   ]
  },
  {
   "cell_type": "code",
   "execution_count": 29,
   "id": "c6053233-549c-44df-89f8-fd05ee17cc7c",
   "metadata": {},
   "outputs": [
    {
     "data": {
      "text/plain": [
       "'eat'"
      ]
     },
     "execution_count": 29,
     "metadata": {},
     "output_type": "execute_result"
    }
   ],
   "source": [
    "reg_stemmer.stem('eating')"
   ]
  },
  {
   "cell_type": "code",
   "execution_count": 31,
   "id": "51a0d8c2-d999-465e-bb1d-5e81cd3f53a6",
   "metadata": {},
   "outputs": [
    {
     "data": {
      "text/plain": [
       "'ingeat'"
      ]
     },
     "execution_count": 31,
     "metadata": {},
     "output_type": "execute_result"
    }
   ],
   "source": [
    "reg_stemmer.stem('ingeating')"
   ]
  },
  {
   "cell_type": "code",
   "execution_count": 33,
   "id": "7d9474e3-884f-4627-821f-b9137f5868fe",
   "metadata": {},
   "outputs": [],
   "source": [
    "reg_stemmer = RegexpStemmer('ing', min=4)"
   ]
  },
  {
   "cell_type": "code",
   "execution_count": 35,
   "id": "d4a761fb-951c-45aa-b4bd-0471ee66286e",
   "metadata": {},
   "outputs": [
    {
     "data": {
      "text/plain": [
       "'eat'"
      ]
     },
     "execution_count": 35,
     "metadata": {},
     "output_type": "execute_result"
    }
   ],
   "source": [
    "reg_stemmer.stem('ingeating')"
   ]
  },
  {
   "cell_type": "markdown",
   "id": "101f39b5-ee4d-4aa5-8bef-1f9361df1eae",
   "metadata": {},
   "source": [
    "### Snowball Stemmer"
   ]
  },
  {
   "cell_type": "markdown",
   "id": "3627b189-1028-4007-b728-05a81eb084e3",
   "metadata": {},
   "source": [
    " Performs better than PorterStemmer"
   ]
  },
  {
   "cell_type": "code",
   "execution_count": 41,
   "id": "d39dfcb4-a565-4ea6-9edb-ce1f8a6e77b3",
   "metadata": {},
   "outputs": [],
   "source": [
    "from nltk.stem import SnowballStemmer"
   ]
  },
  {
   "cell_type": "code",
   "execution_count": 43,
   "id": "f0ea6551-ce91-4547-9646-97608cd19c7d",
   "metadata": {},
   "outputs": [],
   "source": [
    "snowballstemmer = SnowballStemmer('english')"
   ]
  },
  {
   "cell_type": "code",
   "execution_count": 45,
   "id": "d7f2ce4c-0d25-45fd-b767-aa583eeedc9a",
   "metadata": {},
   "outputs": [
    {
     "name": "stdout",
     "output_type": "stream",
     "text": [
      "eating -----> eat\n",
      "eats -----> eat\n",
      "eaten -----> eaten\n",
      "writing -----> write\n",
      "writes -----> write\n",
      "programming -----> program\n",
      "programs -----> program\n",
      "history -----> histori\n",
      "finally -----> final\n",
      "finalized -----> final\n"
     ]
    }
   ],
   "source": [
    "for word in words:\n",
    "    print(word + \" -----> \" + snowballstemmer.stem(word))"
   ]
  },
  {
   "cell_type": "markdown",
   "id": "082f2849-f5ef-433f-af7d-331e31266c8b",
   "metadata": {},
   "source": [
    " ### Ouput comparision of PorterStemmer and Snowball Stemmer"
   ]
  },
  {
   "cell_type": "code",
   "execution_count": 51,
   "id": "56808d7f-8358-4b43-9f72-afcc7596b7c6",
   "metadata": {},
   "outputs": [
    {
     "data": {
      "text/plain": [
       "('fairli', 'sportingli')"
      ]
     },
     "execution_count": 51,
     "metadata": {},
     "output_type": "execute_result"
    }
   ],
   "source": [
    "#PorterStemmer\n",
    "stemming.stem(\"fairly\"),stemming.stem(\"sportingly\")"
   ]
  },
  {
   "cell_type": "code",
   "execution_count": 53,
   "id": "12ba3f90-91fe-4578-bb05-a346fc403814",
   "metadata": {},
   "outputs": [
    {
     "data": {
      "text/plain": [
       "('fair', 'sport')"
      ]
     },
     "execution_count": 53,
     "metadata": {},
     "output_type": "execute_result"
    }
   ],
   "source": [
    "snowballstemmer.stem(\"fairly\"),snowballstemmer.stem(\"sportingly\")"
   ]
  },
  {
   "cell_type": "code",
   "execution_count": null,
   "id": "a2c6275c-65ac-4111-92cd-a04405d5d088",
   "metadata": {},
   "outputs": [],
   "source": []
  }
 ],
 "metadata": {
  "kernelspec": {
   "display_name": "Python (nltk_env)",
   "language": "python",
   "name": "nltk_env"
  },
  "language_info": {
   "codemirror_mode": {
    "name": "ipython",
    "version": 3
   },
   "file_extension": ".py",
   "mimetype": "text/x-python",
   "name": "python",
   "nbconvert_exporter": "python",
   "pygments_lexer": "ipython3",
   "version": "3.10.18"
  }
 },
 "nbformat": 4,
 "nbformat_minor": 5
}
