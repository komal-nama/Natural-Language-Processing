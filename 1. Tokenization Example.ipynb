{
 "cells": [
  {
   "cell_type": "markdown",
   "id": "f14abf8d-abf1-44bb-8682-945e4007c50c",
   "metadata": {},
   "source": [
    "## TOKENIZATION"
   ]
  },
  {
   "cell_type": "code",
   "execution_count": 5,
   "id": "77b2d68e-a5a9-4024-a932-073024f68cfc",
   "metadata": {},
   "outputs": [],
   "source": [
    "corpus = \"\"\"Hello Everyone, Welcome to this Jupyter Module! on tokenization using python. \n",
    "            We'll also learn NLP.\n",
    "\"\"\""
   ]
  },
  {
   "cell_type": "code",
   "execution_count": 7,
   "id": "eb016d8d-7ad9-41e0-80a7-cb07f1d77e58",
   "metadata": {},
   "outputs": [
    {
     "name": "stdout",
     "output_type": "stream",
     "text": [
      "Hello Everyone, Welcome to this Jupyter Module! on tokenization using python. \n",
      "            We'll also learn NLP.\n",
      "\n"
     ]
    }
   ],
   "source": [
    "print(corpus)"
   ]
  },
  {
   "cell_type": "markdown",
   "id": "c759c4d5-8834-4c22-9c87-89ff62caac97",
   "metadata": {},
   "source": [
    "#### Paragraph --> Sentences"
   ]
  },
  {
   "cell_type": "code",
   "execution_count": 15,
   "id": "80f9ccd9-4a26-4fea-8acd-496e19820300",
   "metadata": {},
   "outputs": [
    {
     "data": {
      "text/plain": [
       "['Hello Everyone, Welcome to this Jupyter Module!',\n",
       " 'on tokenization using python.',\n",
       " \"We'll also learn NLP.\"]"
      ]
     },
     "execution_count": 15,
     "metadata": {},
     "output_type": "execute_result"
    }
   ],
   "source": [
    "from nltk.tokenize import sent_tokenize\n",
    "sent_tokenize(corpus)\n",
    "\n",
    "# in output we'll get list of sentences"
   ]
  },
  {
   "cell_type": "code",
   "execution_count": 18,
   "id": "d05fb6a0-6c6f-4609-8826-20beb219fdc8",
   "metadata": {},
   "outputs": [
    {
     "name": "stdout",
     "output_type": "stream",
     "text": [
      "Hello Everyone, Welcome to this Jupyter Module!\n",
      "on tokenization using python.\n",
      "We'll also learn NLP.\n"
     ]
    }
   ],
   "source": [
    "document = sent_tokenize(corpus)\n",
    "for sentence in document:\n",
    "    print(sentence)"
   ]
  },
  {
   "cell_type": "code",
   "execution_count": 20,
   "id": "cb81279f-8fac-4f51-8e13-c9b30d3e437d",
   "metadata": {},
   "outputs": [
    {
     "data": {
      "text/plain": [
       "list"
      ]
     },
     "execution_count": 20,
     "metadata": {},
     "output_type": "execute_result"
    }
   ],
   "source": [
    "type(document)"
   ]
  },
  {
   "cell_type": "markdown",
   "id": "0d2d7ffe-6550-47f8-ac8e-a1f464d195a5",
   "metadata": {},
   "source": [
    "#### Paragraph --> words\n",
    "#### Sentences --> words"
   ]
  },
  {
   "cell_type": "code",
   "execution_count": 3,
   "id": "2f6faec9-1132-4dae-afd1-ef06f18e22b0",
   "metadata": {},
   "outputs": [],
   "source": [
    "from nltk.tokenize import word_tokenize"
   ]
  },
  {
   "cell_type": "code",
   "execution_count": 9,
   "id": "262ee796-dd1d-4afc-82de-d1763956afd3",
   "metadata": {},
   "outputs": [
    {
     "data": {
      "text/plain": [
       "['Hello',\n",
       " 'Everyone',\n",
       " ',',\n",
       " 'Welcome',\n",
       " 'to',\n",
       " 'this',\n",
       " 'Jupyter',\n",
       " 'Module',\n",
       " '!',\n",
       " 'on',\n",
       " 'tokenization',\n",
       " 'using',\n",
       " 'python',\n",
       " '.',\n",
       " 'We',\n",
       " \"'ll\",\n",
       " 'also',\n",
       " 'learn',\n",
       " 'NLP',\n",
       " '.']"
      ]
     },
     "execution_count": 9,
     "metadata": {},
     "output_type": "execute_result"
    }
   ],
   "source": [
    "word_tokenize(corpus)"
   ]
  },
  {
   "cell_type": "code",
   "execution_count": 22,
   "id": "10c82a03-2062-4470-b020-bae2d20d4435",
   "metadata": {},
   "outputs": [
    {
     "name": "stdout",
     "output_type": "stream",
     "text": [
      "['Hello', 'Everyone', ',', 'Welcome', 'to', 'this', 'Jupyter', 'Module', '!']\n",
      "['on', 'tokenization', 'using', 'python', '.']\n",
      "['We', \"'ll\", 'also', 'learn', 'NLP', '.']\n"
     ]
    }
   ],
   "source": [
    "for sentence in document:\n",
    "    print(word_tokenize(sentence))"
   ]
  },
  {
   "cell_type": "markdown",
   "id": "8cbe967a-700e-4469-9270-f04f086dd0c1",
   "metadata": {},
   "source": [
    "##### Apostrophe included:"
   ]
  },
  {
   "cell_type": "code",
   "execution_count": 24,
   "id": "3d76d7f0-159e-40dc-bb31-e30f5f6ef3d9",
   "metadata": {},
   "outputs": [
    {
     "name": "stdout",
     "output_type": "stream",
     "text": [
      "Hello Everyone, Welcome to this Jupyter Notebook's Module! on tokenization using python. \n",
      "            We'll also learn NLP.\n",
      "\n"
     ]
    }
   ],
   "source": [
    "corpus2 = \"\"\"Hello Everyone, Welcome to this Jupyter Notebook's Module! on tokenization using python. \n",
    "            We'll also learn NLP.\n",
    "\"\"\"\n",
    "print(corpus2)"
   ]
  },
  {
   "cell_type": "code",
   "execution_count": 30,
   "id": "7b18f30b-bcd1-471e-9f99-11ad3b033b8e",
   "metadata": {},
   "outputs": [
    {
     "data": {
      "text/plain": [
       "['Hello',\n",
       " 'Everyone',\n",
       " ',',\n",
       " 'Welcome',\n",
       " 'to',\n",
       " 'this',\n",
       " 'Jupyter',\n",
       " 'Notebook',\n",
       " \"'\",\n",
       " 's',\n",
       " 'Module',\n",
       " '!',\n",
       " 'on',\n",
       " 'tokenization',\n",
       " 'using',\n",
       " 'python',\n",
       " '.',\n",
       " 'We',\n",
       " \"'\",\n",
       " 'll',\n",
       " 'also',\n",
       " 'learn',\n",
       " 'NLP',\n",
       " '.']"
      ]
     },
     "execution_count": 30,
     "metadata": {},
     "output_type": "execute_result"
    }
   ],
   "source": [
    "from nltk.tokenize import wordpunct_tokenize        #this include 's also\n",
    "wordpunct_tokenize(corpus2)"
   ]
  },
  {
   "cell_type": "markdown",
   "id": "81dcae76-c1a9-45a9-9d04-62d6011d9cbc",
   "metadata": {},
   "source": [
    "#### TreebankWordTokenizer"
   ]
  },
  {
   "cell_type": "code",
   "execution_count": 35,
   "id": "2e15e883-f3be-4d8e-9647-9077ed78a7b5",
   "metadata": {},
   "outputs": [],
   "source": [
    "from nltk.tokenize import TreebankWordTokenizer\n",
    "tokenizer = TreebankWordTokenizer()"
   ]
  },
  {
   "cell_type": "code",
   "execution_count": 37,
   "id": "2fc1f2b2-7b1b-4f6d-904a-76d3864f9281",
   "metadata": {},
   "outputs": [
    {
     "data": {
      "text/plain": [
       "['Hello',\n",
       " 'Everyone',\n",
       " ',',\n",
       " 'Welcome',\n",
       " 'to',\n",
       " 'this',\n",
       " 'Jupyter',\n",
       " 'Notebook',\n",
       " \"'s\",\n",
       " 'Module',\n",
       " '!',\n",
       " 'on',\n",
       " 'tokenization',\n",
       " 'using',\n",
       " 'python.',\n",
       " 'We',\n",
       " \"'ll\",\n",
       " 'also',\n",
       " 'learn',\n",
       " 'NLP',\n",
       " '.']"
      ]
     },
     "execution_count": 37,
     "metadata": {},
     "output_type": "execute_result"
    }
   ],
   "source": [
    "tokenizer.tokenize(corpus2)"
   ]
  },
  {
   "cell_type": "code",
   "execution_count": null,
   "id": "caa55aa6-9e52-4758-8404-d5db25f90040",
   "metadata": {},
   "outputs": [],
   "source": []
  }
 ],
 "metadata": {
  "kernelspec": {
   "display_name": "Python (nltk_env)",
   "language": "python",
   "name": "nltk_env"
  },
  "language_info": {
   "codemirror_mode": {
    "name": "ipython",
    "version": 3
   },
   "file_extension": ".py",
   "mimetype": "text/x-python",
   "name": "python",
   "nbconvert_exporter": "python",
   "pygments_lexer": "ipython3",
   "version": "3.10.18"
  }
 },
 "nbformat": 4,
 "nbformat_minor": 5
}
